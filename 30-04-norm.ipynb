{
 "cells": [
  {
   "cell_type": "code",
   "execution_count": 6,
   "metadata": {},
   "outputs": [],
   "source": [
    "from widgets.data import Data\n",
    "import numpy as np\n",
    "from functools import reduce\n",
    "import matplotlib.pyplot as plt\n",
    "import numpy as np\n",
    "import scipy.interpolate as si\n",
    "\n",
    "def get_indices_range(x, start_value, end_value):\n",
    "    start_index = np.argmin(np.absolute(x - start_value))\n",
    "    end_index = np.argmin(np.absolute(x - end_value))\n",
    "    return np.r_[start_index:end_index]\n",
    "\n",
    "def get_indices_to_fit(x, ranges_to_ignore):\n",
    "    union = reduce(np.union1d, (get_indices_range(x, *i) for i in ranges_to_ignore))\n",
    "    to_fit = np.in1d(np.arange(x.shape[0]), union, invert=True)\n",
    "    return to_fit"
   ]
  },
  {
   "cell_type": "markdown",
   "metadata": {},
   "source": [
    "# Normalization on water spectrum"
   ]
  },
  {
   "cell_type": "code",
   "execution_count": 72,
   "metadata": {},
   "outputs": [
    {
     "data": {
      "image/png": "[encoded data removed]",
      "text/plain": [
       "<Figure size 432x288 with 1 Axes>"
      ]
     },
     "metadata": {
      "needs_background": "light"
     },
     "output_type": "display_data"
    },
    {
     "name": "stdout",
     "output_type": "stream",
     "text": [
      "[[ 0  0  0 ... 84 84 84]\n",
      " [ 0  1  2 ... 57 58 59]]\n",
      "\n"
     ]
    },
    {
     "data": {
      "image/png": "[encoded data removed]",
      "text/plain": [
       "<Figure size 432x288 with 1 Axes>"
      ]
     },
     "metadata": {
      "needs_background": "light"
     },
     "output_type": "display_data"
    },
    {
     "data": {
      "image/png": "[encoded data removed]",
      "text/plain": [
       "<Figure size 432x288 with 1 Axes>"
      ]
     },
     "metadata": {
      "needs_background": "light"
     },
     "output_type": "display_data"
    }
   ],
   "source": [
    "from sklearn import cluster\n",
    "\n",
    "cell = \"Cryptomonas\" # \"Bigelowiella\" \"Cryptomonas\" \"Penium\" \"a\"\n",
    "data = Data(f\"./data/{cell}.mat\")\n",
    "\n",
    "n_comp = 2\n",
    "clf = cluster.MiniBatchKMeans(n_clusters=n_comp, random_state=2, max_iter=100)\n",
    "# cluster based on C-H band\n",
    "flattened_data = np.reshape(data.data, (-1, data.data.shape[-1]))[:,get_indices_range(data.x_axis, 2750, 3050)]\n",
    "clf.fit(flattened_data)\n",
    "result = clf.predict(flattened_data)\n",
    "\n",
    "comp_im = np.reshape(result, data.data.shape[:2])\n",
    "water_component = int(np.round(np.mean(np.concatenate((comp_im[:,0], comp_im[:, -1], comp_im[-1, :], comp_im[0, :])))))\n",
    "# let the water component be 0\n",
    "if water_component == 1:\n",
    "    comp_im = np.ones(comp_im.shape) - comp_im\n",
    "\n",
    "plt.imshow(comp_im.T, interpolation='nearest', zorder=1)\n",
    "plt.axis('off')\n",
    "plt.show()\n",
    "\n",
    "no_water_rows = np.argwhere(np.max(comp_im, axis=0) > 0)\n",
    "no_water_cols = np.argwhere(np.max(comp_im, axis=1) > 0)\n",
    "\n",
    "inner_points = comp_im[no_water_cols[0][0]:no_water_cols[-1][0] + 1, no_water_rows[0][0]:no_water_rows[-1][0] + 1]\n",
    "comp_im[no_water_cols[0][0]:no_water_cols[-1][0] + 1, no_water_rows[0][0]:no_water_rows[-1][0] + 1] = 1\n",
    "outer_points = np.vstack(np.where(comp_im == 0))\n",
    "print(outer_points)\n",
    "print()\n",
    "#plt.imshow(comp_im.T, interpolation='nearest', zorder=1)\n",
    "plt.scatter(*outer_points, color=\"r\", zorder=2, s=1)\n",
    "plt.axis('off')\n",
    "plt.show()\n",
    "\n",
    "plt.imshow(comp_im.T, interpolation='nearest', zorder=1)\n",
    "plt.axis('off')\n",
    "plt.show()\n"
   ]
  }
 ],
 "metadata": {
  "interpreter": {
   "hash": "24d772a311913fcfba28f11dbe62a5baa8f9888d9c63c8f981488aed45b352ab"
  },
  "kernelspec": {
   "display_name": "Python 3.9.6 64-bit",
   "language": "python",
   "name": "python3"
  },
  "language_info": {
   "codemirror_mode": {
    "name": "ipython",
    "version": 3
   },
   "file_extension": ".py",
   "mimetype": "text/x-python",
   "name": "python",
   "nbconvert_exporter": "python",
   "pygments_lexer": "ipython3",
   "version": "3.9.6"
  },
  "orig_nbformat": 4
 },
 "nbformat": 4,
 "nbformat_minor": 2
}
